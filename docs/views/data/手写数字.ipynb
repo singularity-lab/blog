{
 "cells": [
  {
   "cell_type": "code",
   "execution_count": 157,
   "metadata": {},
   "outputs": [],
   "source": [
    "import numpy\n",
    "import matplotlib.pyplot as plt\n",
    "import scipy.special"
   ]
  },
  {
   "cell_type": "code",
   "execution_count": 158,
   "metadata": {},
   "outputs": [],
   "source": [
    "data_file = open(\"E:\\OneDrive\\文档\\数据集\\手写数字MNIST\\mnist_train_100.txt\",\"r\")\n",
    "data_list = data_file.readlines()\n",
    "data_file.close()"
   ]
  },
  {
   "cell_type": "markdown",
   "metadata": {},
   "source": [
    "在对文件数据进行操作时不能先关闭文件\n",
    "调用方法时要记得加括号"
   ]
  },
  {
   "cell_type": "code",
   "execution_count": 159,
   "metadata": {},
   "outputs": [],
   "source": [
    "# len(data_list)\n",
    "# print(data_list)"
   ]
  },
  {
   "cell_type": "code",
   "execution_count": 160,
   "metadata": {},
   "outputs": [
    {
     "name": "stderr",
     "output_type": "stream",
     "text": [
      "d:\\Anaconda3\\envs\\pytorch38\\lib\\site-packages\\ipykernel_launcher.py:7: MatplotlibDeprecationWarning: Case-insensitive properties were deprecated in 3.3 and support will be removed two minor releases later\n",
      "  import sys\n"
     ]
    },
    {
     "data": {
      "image/png": "[encoded data removed]",
      "text/plain": [
       "<Figure size 432x288 with 1 Axes>"
      ]
     },
     "metadata": {},
     "output_type": "display_data"
    }
   ],
   "source": [
    "from configparser import Interpolation\n",
    "from numpy import imag\n",
    "\n",
    "\n",
    "all_values = data_list[0].split(',')\n",
    "imag_array = numpy.asfarray(all_values[1:]).reshape((28,28))\n",
    "plt.imshow(imag_array,cmap=\"gray\",Interpolation='none')\n",
    "plt.show()"
   ]
  },
  {
   "cell_type": "markdown",
   "metadata": {},
   "source": [
    "plt.imshow()后面加上plt.show()才能显示，plt.imshow()仅仅是生成图像"
   ]
  },
  {
   "cell_type": "code",
   "execution_count": 161,
   "metadata": {},
   "outputs": [],
   "source": [
    "class neuralNetwork:\n",
    "    # 初始化\n",
    "    def __init__(self,inputnodes,hiddennodes,outputnodes,learningrate):\n",
    "        # 设置输入层，隐藏层，输出层的节点数\n",
    "        self.inodes = inputnodes\n",
    "        self.hnodes = hiddennodes\n",
    "        self.onodes = outputnodes\n",
    "\n",
    "        # 定义链接的权重矩阵，此处是根据正态分布初始化\n",
    "        self.wih = numpy.random.normal(0.0,pow(self.hnodes,-0.5),(self.hnodes,self.inodes))\n",
    "        self.who = numpy.random.normal(0.0,pow(self.hnodes,-0.5),(self.onodes,self.hnodes))\n",
    "\n",
    "        # 设置学习率\n",
    "        self.lr = learningrate\n",
    "\n",
    "        # 定义激活函数\n",
    "        self.activation_function = lambda x:scipy.special.expit(x) \n",
    "        pass\n",
    "\n",
    "    # 训练\n",
    "    def train(self,input_list,output_list):\n",
    "        # 将列表转为数组\n",
    "        inputs = numpy.array(input_list,ndmin=2).T\n",
    "        targets  = numpy.array(output_list,ndmin=2).T\n",
    "\n",
    "        # 计算隐藏层的输入\n",
    "        hidden_inputs = numpy.dot(self.wih,inputs)\n",
    "        # 将结果输入激活函数作为下一层的输入\n",
    "        hidden_outputs =self.activation_function(hidden_inputs)\n",
    "        # 计算输出层的输入\n",
    "        final_inputs = numpy.dot(self.who,hidden_outputs)\n",
    "        # 将结果输入激活函数作为最后输出\n",
    "        final_outputs = self.activation_function(final_inputs)\n",
    "\n",
    "        # 计算误差\n",
    "        output_errors = targets-final_outputs\n",
    "        hidden_errors = numpy.dot(self.who.T,output_errors)\n",
    "\n",
    "        # 更新权重\n",
    "        self.who += self.lr*numpy.dot((output_errors*final_outputs*(1.0-final_outputs)),numpy.transpose(hidden_outputs))\n",
    "        self.wih += self.lr*numpy.dot((hidden_errors*hidden_outputs*(1.0-hidden_outputs)),numpy.transpose(inputs))\n",
    "\n",
    "    def query(self,input_list):\n",
    "            # 将列表转为数组\n",
    "            inputs = numpy.array(input_list,ndmin=2).T\n",
    "\n",
    "            # 计算隐藏层的输入\n",
    "            hidden_inputs = numpy.dot(self.wih,inputs)\n",
    "            # 将结果输入激活函数作为下一层的输入\n",
    "            hidden_outputs =self.activation_function(hidden_inputs)\n",
    "            # 计算输出层的输入\n",
    "            final_inputs = numpy.dot(self.who,hidden_outputs)\n",
    "            # 将结果输入激活函数作为最后输出\n",
    "            final_outputs = self.activation_function(final_inputs)\n",
    "\n",
    "            return final_outputs\n"
   ]
  },
  {
   "cell_type": "markdown",
   "metadata": {},
   "source": [
    "训练模型"
   ]
  },
  {
   "cell_type": "code",
   "execution_count": 162,
   "metadata": {},
   "outputs": [],
   "source": [
    "input_nodes = 784\n",
    "hidden_nodes = 200\n",
    "output_nodes = 10\n",
    "\n",
    "learning_rate = 0.1\n",
    "epoch = 50\n",
    "\n",
    "n = neuralNetwork(input_nodes,hidden_nodes,output_nodes,learning_rate)"
   ]
  },
  {
   "cell_type": "code",
   "execution_count": 163,
   "metadata": {},
   "outputs": [],
   "source": [
    "training_data_file = open(\"E:\\OneDrive\\文档\\数据集\\手写数字MNIST\\mnist_train_100.txt\",\"r\")\n",
    "training_data_list = training_data_file.readlines()\n",
    "training_data_file.close()"
   ]
  },
  {
   "cell_type": "code",
   "execution_count": 164,
   "metadata": {},
   "outputs": [],
   "source": [
    "for i in range(epoch):\n",
    "    for record in training_data_list:\n",
    "        all_values = record.split(\",\")\n",
    "        inputs = (numpy.asfarray(all_values[1:])/255.0*0.99)+0.1\n",
    "        targets = numpy.zeros(output_nodes)+0.01\n",
    "        targets[int(all_values[0])] = 0.99\n",
    "        outputs = n.train(inputs,targets)"
   ]
  },
  {
   "cell_type": "markdown",
   "metadata": {},
   "source": [
    "测试模型"
   ]
  },
  {
   "cell_type": "markdown",
   "metadata": {},
   "source": []
  },
  {
   "cell_type": "code",
   "execution_count": 165,
   "metadata": {},
   "outputs": [],
   "source": [
    "test_data_file = open(\"E:\\OneDrive\\文档\\数据集\\手写数字MNIST\\mnist_test_10.txt\",\"r\")\n",
    "test_data_list = test_data_file.readlines()\n",
    "test_data_file.close()"
   ]
  },
  {
   "cell_type": "code",
   "execution_count": 166,
   "metadata": {},
   "outputs": [
    {
     "name": "stdout",
     "output_type": "stream",
     "text": [
      "7\n"
     ]
    }
   ],
   "source": [
    "# 获取测试集的第一个值\n",
    "all_values2 = test_data_list[0].split(\",\")\n",
    "print(all_values2[0])"
   ]
  },
  {
   "cell_type": "code",
   "execution_count": 167,
   "metadata": {},
   "outputs": [
    {
     "data": {
      "image/png": "[encoded data removed]",
      "text/plain": [
       "<Figure size 432x288 with 1 Axes>"
      ]
     },
     "metadata": {},
     "output_type": "display_data"
    }
   ],
   "source": [
    "image_array = numpy.asfarray(all_values2[1:]).reshape((28,28))\n",
    "plt.imshow(image_array,cmap=\"gray\",interpolation='none')\n",
    "plt.show()"
   ]
  },
  {
   "cell_type": "code",
   "execution_count": 168,
   "metadata": {},
   "outputs": [
    {
     "data": {
      "text/plain": [
       "array([[0.01224118],\n",
       "       [0.00445431],\n",
       "       [0.03148557],\n",
       "       [0.01233577],\n",
       "       [0.00438021],\n",
       "       [0.03198868],\n",
       "       [0.00109165],\n",
       "       [0.96160137],\n",
       "       [0.00850337],\n",
       "       [0.01706819]])"
      ]
     },
     "execution_count": 168,
     "metadata": {},
     "output_type": "execute_result"
    }
   ],
   "source": [
    "n.query((numpy.asfarray(all_values2[1:])/255.0*0.99)+0.1)"
   ]
  },
  {
   "cell_type": "code",
   "execution_count": 169,
   "metadata": {},
   "outputs": [
    {
     "name": "stdout",
     "output_type": "stream",
     "text": [
      "7 correct_label\n",
      "7 answer\n",
      "2 correct_label\n",
      "2 answer\n",
      "1 correct_label\n",
      "1 answer\n",
      "0 correct_label\n",
      "0 answer\n",
      "4 correct_label\n",
      "4 answer\n",
      "1 correct_label\n",
      "1 answer\n",
      "4 correct_label\n",
      "9 answer\n",
      "9 correct_label\n",
      "4 answer\n",
      "5 correct_label\n",
      "1 answer\n",
      "9 correct_label\n",
      "9 answer\n",
      "0 correct_label\n",
      "0 answer\n",
      "6 correct_label\n",
      "9 answer\n",
      "9 correct_label\n",
      "7 answer\n",
      "0 correct_label\n",
      "0 answer\n",
      "1 correct_label\n",
      "1 answer\n",
      "5 correct_label\n",
      "3 answer\n",
      "9 correct_label\n",
      "7 answer\n",
      "7 correct_label\n",
      "7 answer\n",
      "3 correct_label\n",
      "3 answer\n",
      "4 correct_label\n",
      "4 answer\n",
      "9 correct_label\n",
      "9 answer\n",
      "6 correct_label\n",
      "6 answer\n",
      "6 correct_label\n",
      "1 answer\n",
      "5 correct_label\n",
      "5 answer\n",
      "4 correct_label\n",
      "4 answer\n",
      "0 correct_label\n",
      "0 answer\n",
      "7 correct_label\n",
      "7 answer\n",
      "4 correct_label\n",
      "4 answer\n",
      "0 correct_label\n",
      "0 answer\n",
      "1 correct_label\n",
      "1 answer\n",
      "3 correct_label\n",
      "3 answer\n",
      "1 correct_label\n",
      "1 answer\n",
      "3 correct_label\n",
      "3 answer\n",
      "4 correct_label\n",
      "4 answer\n",
      "7 correct_label\n",
      "8 answer\n",
      "2 correct_label\n",
      "2 answer\n",
      "7 correct_label\n",
      "7 answer\n",
      "1 correct_label\n",
      "1 answer\n",
      "2 correct_label\n",
      "1 answer\n",
      "1 correct_label\n",
      "1 answer\n",
      "1 correct_label\n",
      "1 answer\n",
      "7 correct_label\n",
      "7 answer\n",
      "4 correct_label\n",
      "4 answer\n",
      "2 correct_label\n",
      "2 answer\n",
      "3 correct_label\n",
      "3 answer\n",
      "5 correct_label\n",
      "3 answer\n",
      "1 correct_label\n",
      "9 answer\n",
      "2 correct_label\n",
      "2 answer\n",
      "4 correct_label\n",
      "4 answer\n",
      "4 correct_label\n",
      "4 answer\n",
      "6 correct_label\n",
      "6 answer\n",
      "3 correct_label\n",
      "3 answer\n",
      "5 correct_label\n",
      "4 answer\n",
      "5 correct_label\n",
      "3 answer\n",
      "6 correct_label\n",
      "4 answer\n",
      "0 correct_label\n",
      "0 answer\n",
      "4 correct_label\n",
      "4 answer\n",
      "1 correct_label\n",
      "1 answer\n",
      "9 correct_label\n",
      "4 answer\n",
      "5 correct_label\n",
      "5 answer\n",
      "7 correct_label\n",
      "7 answer\n",
      "8 correct_label\n",
      "8 answer\n",
      "9 correct_label\n",
      "9 answer\n",
      "3 correct_label\n",
      "2 answer\n",
      "7 correct_label\n",
      "4 answer\n",
      "4 correct_label\n",
      "9 answer\n",
      "6 correct_label\n",
      "1 answer\n",
      "4 correct_label\n",
      "4 answer\n",
      "3 correct_label\n",
      "3 answer\n",
      "0 correct_label\n",
      "0 answer\n",
      "7 correct_label\n",
      "7 answer\n",
      "0 correct_label\n",
      "0 answer\n",
      "2 correct_label\n",
      "2 answer\n",
      "9 correct_label\n",
      "8 answer\n",
      "1 correct_label\n",
      "1 answer\n",
      "7 correct_label\n",
      "7 answer\n",
      "3 correct_label\n",
      "3 answer\n",
      "2 correct_label\n",
      "7 answer\n",
      "9 correct_label\n",
      "9 answer\n",
      "7 correct_label\n",
      "7 answer\n",
      "7 correct_label\n",
      "7 answer\n",
      "6 correct_label\n",
      "6 answer\n",
      "2 correct_label\n",
      "2 answer\n",
      "7 correct_label\n",
      "7 answer\n",
      "8 correct_label\n",
      "4 answer\n",
      "4 correct_label\n",
      "4 answer\n",
      "7 correct_label\n",
      "7 answer\n",
      "3 correct_label\n",
      "3 answer\n",
      "6 correct_label\n",
      "6 answer\n",
      "1 correct_label\n",
      "1 answer\n",
      "3 correct_label\n",
      "3 answer\n",
      "6 correct_label\n",
      "6 answer\n",
      "9 correct_label\n",
      "9 answer\n",
      "3 correct_label\n",
      "3 answer\n",
      "1 correct_label\n",
      "1 answer\n",
      "4 correct_label\n",
      "4 answer\n",
      "1 correct_label\n",
      "9 answer\n",
      "7 correct_label\n",
      "3 answer\n",
      "6 correct_label\n",
      "6 answer\n",
      "9 correct_label\n",
      "4 answer\n"
     ]
    }
   ],
   "source": [
    "scorecard = []\n",
    "\n",
    "for code in test_data_list:\n",
    "    all_values = code.split(\",\")\n",
    "    correct_label = int(all_values[0])\n",
    "    print(correct_label,\"correct_label\")\n",
    "    inputs = (numpy.asfarray(all_values[1:]) / 255.0 * 0.99) + 0.01\n",
    "    outputs = n.query(inputs)\n",
    "    label = numpy.argmax(outputs)\n",
    "    print(label,\"answer\")\n",
    "    if(correct_label==label):\n",
    "        scorecard.append(1)\n",
    "    else:\n",
    "        scorecard.append(0)"
   ]
  },
  {
   "cell_type": "code",
   "execution_count": 170,
   "metadata": {},
   "outputs": [
    {
     "name": "stdout",
     "output_type": "stream",
     "text": [
      "[1, 1, 1, 1, 1, 1, 0, 0, 0, 1, 1, 0, 0, 1, 1, 0, 0, 1, 1, 1, 1, 1, 0, 1, 1, 1, 1, 1, 1, 1, 1, 1, 1, 1, 0, 1, 1, 1, 0, 1, 1, 1, 1, 1, 1, 0, 0, 1, 1, 1, 1, 1, 0, 0, 0, 1, 1, 1, 0, 1, 1, 1, 1, 0, 0, 0, 0, 1, 1, 1, 1, 1, 1, 0, 1, 1, 1, 0, 1, 1, 1, 1, 1, 1, 0, 1, 1, 1, 1, 1, 1, 1, 1, 1, 1, 1, 0, 0, 1, 0]\n",
      "performance =  0.74\n"
     ]
    }
   ],
   "source": [
    "print(scorecard)\n",
    "scorecard_array = numpy.asarray(scorecard) \n",
    "print (\"performance = \", scorecard_array.sum() / scorecard_array.size)"
   ]
  }
 ],
 "metadata": {
  "kernelspec": {
   "display_name": "Python 3.6.15 ('pytorch38')",
   "language": "python",
   "name": "python3"
  },
  "language_info": {
   "codemirror_mode": {
    "name": "ipython",
    "version": 3
   },
   "file_extension": ".py",
   "mimetype": "text/x-python",
   "name": "python",
   "nbconvert_exporter": "python",
   "pygments_lexer": "ipython3",
   "version": "3.6.15"
  },
  "orig_nbformat": 4,
  "vscode": {
   "interpreter": {
    "hash": "dfb7ab611ee6793a2bf93701295d770513e1e2edb32d16599c78c4ba42795f3f"
   }
  }
 },
 "nbformat": 4,
 "nbformat_minor": 2
}
